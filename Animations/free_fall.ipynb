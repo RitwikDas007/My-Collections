{
 "cells": [
  {
   "cell_type": "markdown",
   "id": "a633f124-1f42-4c34-ae57-b8f65d3689d1",
   "metadata": {},
   "source": [
    "# <center>Free fall under gravity in vaccum</center>"
   ]
  },
  {
   "cell_type": "code",
   "execution_count": 11,
   "id": "77547f4d-6996-4190-9c8d-5f4f4e367565",
   "metadata": {},
   "outputs": [],
   "source": [
    "import numpy as np\n",
    "import matplotlib.pyplot as plt\n",
    "import matplotlib.animation as amt\n",
    "from IPython.display import Video"
   ]
  },
  {
   "cell_type": "code",
   "execution_count": 24,
   "id": "6dac0327-b028-4ee7-a75b-7c36b8d4f6e8",
   "metadata": {
    "scrolled": true
   },
   "outputs": [],
   "source": [
    "a, b, c, x, y = [], [], [], [], []\n",
    "\n",
    "H = 25\t\t\t\t\t# meter\n",
    "m = 5\t\t\t\t\t# Kg\n",
    "g = 9.81\t\t\t\t# m/s**2\n",
    "animation_interval = 0.1\n",
    "\n",
    "PE_max = m*g*H\n",
    "T = np.sqrt((2*H)/g)\n",
    "\n",
    "t = np.linspace(0, T, 250, endpoint=False)\n",
    "h = (0.5*g*(t**2))\n",
    "v = np.sqrt(2*g*h)\n",
    "v_max = max(v)\n",
    "\n",
    "fig = plt.figure(figsize=[12.5, 8], dpi=90)\n",
    "ax1 = plt.axes([0.1, 0.1, 0.025, 0.8])\n",
    "ax2 = plt.axes([0.23, 0.55, 0.2, 0.3])\n",
    "ax3 = plt.axes([0.23, 0.12, 0.2, 0.3])\n",
    "ax4 = plt.axes([0.54, 0.12, 0.4, 0.73])\n",
    "\n",
    "ax1_P = ax1.scatter(0, 0, color='orangered', s=70)\n",
    "ax1.set_xlim(-2, 1)\n",
    "ax1.set_ylim(-1, H+2)\n",
    "ax1.set_ylabel('Height (Meter)')\n",
    "ax1.axhline(y=0, alpha=0.5)\n",
    "ax1.text(-5, -1, 'Reference Point')\n",
    "ax1.xaxis.set_visible(False)\n",
    "ax1.set_frame_on(False)\n",
    "ax1.grid(color='grey', alpha=0.9, lw=0.7, ls='-.')\n",
    "\n",
    "ax2_VH, = ax2.plot(0, 0, color='orchid', lw=1)\n",
    "ax2.set_xlabel('Velocity (m/s)')\n",
    "ax2.set_ylabel('Height (Meter)')\n",
    "ax2.set_xlim(0, v_max+5)\n",
    "ax2.set_ylim(0, H+5)\n",
    "ax2.grid(color='grey', alpha=0.7, lw=0.7, ls=':')\n",
    "\n",
    "ax3_TV, = ax3.plot(0, 0, color='green', lw=1)\n",
    "ax3.set_xlabel('Time (s)')\n",
    "ax3.set_ylabel('Velocity (m/s)')\n",
    "ax3.set_xlim(0, T+1)\n",
    "ax3.set_ylim(0, v_max+5)\n",
    "ax3.grid(color='grey', alpha=0.7, lw=0.7, ls=':')\n",
    "\n",
    "ax4_PE, = ax4.plot(0, 0, color='red', label='P.E.', lw=1)\n",
    "ax4_KE, = ax4.plot(0, 0, color='lightseagreen', label='K.E.', lw=1)\n",
    "ax4.set_xlabel('Height (Meter)')\n",
    "ax4.set_ylabel('Energy (Joule)')\n",
    "ax4.set_xlim(-2, H+2)\n",
    "ax4.set_ylim([-100, PE_max+200])\n",
    "ax4.axhline(y=PE_max, color='olive', ls='--', lw=1.2)\n",
    "ax4.text(-1, PE_max+10, 'Total Energy', color='olivedrab')\n",
    "ax4.grid(color='grey', alpha=0.7, lw=0.7, ls=':')\n",
    "ax4.legend(loc=5)\n",
    "\n",
    "def animation_plots(i):\n",
    "\ta.append(t[i])\n",
    "\tb.append(H-h[i])\n",
    "\tc.append(v[i])\n",
    "\tx.append(m*g*h[i])\n",
    "\ty.append(m*g*(H-h[i]))\n",
    "\tax1_P.set_offsets((0, H-h[i]))\n",
    "\tax2_VH.set_data(c, b)\n",
    "\tax3_TV.set_data(a, c)\n",
    "\tax4_PE.set_data(b, y)\n",
    "\tax4_KE.set_data(b, x)\n",
    "\treturn ax1_P, ax2_VH,ax3_TV,ax4_PE, ax4_KE,\n",
    "\n",
    "anim = amt.FuncAnimation(fig, animation_plots, frames=len(t)-1, interval=animation_interval, repeat=False)\n",
    "plt.close()"
   ]
  },
  {
   "cell_type": "code",
   "execution_count": 25,
   "id": "1a3c62c2-03fa-462d-a6a2-f5626bb6b30e",
   "metadata": {},
   "outputs": [
    {
     "data": {
      "text/html": [
       "<video src=\"free_fall.mp4\" controls  >\n",
       "      Your browser does not support the <code>video</code> element.\n",
       "    </video>"
      ],
      "text/plain": [
       "<IPython.core.display.Video object>"
      ]
     },
     "execution_count": 25,
     "metadata": {},
     "output_type": "execute_result"
    }
   ],
   "source": [
    "writervideo = amt.FFMpegWriter(fps=60) \n",
    "anim.save('free_fall.mp4', writer=writervideo) \n",
    "\n",
    "Video(url='free_fall.mp4')"
   ]
  },
  {
   "cell_type": "code",
   "execution_count": null,
   "id": "fd7ea3a3-f410-480a-9a20-043c8c3781b4",
   "metadata": {},
   "outputs": [],
   "source": []
  }
 ],
 "metadata": {
  "kernelspec": {
   "display_name": "Python 3 (ipykernel)",
   "language": "python",
   "name": "python3"
  },
  "language_info": {
   "codemirror_mode": {
    "name": "ipython",
    "version": 3
   },
   "file_extension": ".py",
   "mimetype": "text/x-python",
   "name": "python",
   "nbconvert_exporter": "python",
   "pygments_lexer": "ipython3",
   "version": "3.10.12"
  }
 },
 "nbformat": 4,
 "nbformat_minor": 5
}
