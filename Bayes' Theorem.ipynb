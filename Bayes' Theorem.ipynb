{
 "cells": [
  {
   "cell_type": "markdown",
   "id": "eae8bdd6-c0d1-486f-9ee9-e3cced2cfa08",
   "metadata": {},
   "source": [
    "# $$\\color{#822FDF}{\\text{Bayesian Inference}}$$"
   ]
  },
  {
   "cell_type": "markdown",
   "id": "13e812de-ba07-4f0e-93e4-791e7d0e6897",
   "metadata": {},
   "source": [
    "Bayesian inference is a method of inferential Statistics in which Bayes's Theorem is used to update the probability of a hypothesis or model as the information becomes available. Let's talk about the conditional probablity and how it is related with Bayes's theorem ?"
   ]
  },
  {
   "cell_type": "markdown",
   "id": "d7054a43-4dab-4c32-aade-5eb7d3c94da1",
   "metadata": {},
   "source": [
    "### <span style=\"color:#BB1C75\">Conditional Probability</span>"
   ]
  },
  {
   "cell_type": "markdown",
   "id": "2e4ff0d3-c564-43f2-aefb-cd299f315a7c",
   "metadata": {},
   "source": [
    "The probability of occurrence of any event when another event in relation with that event has already occurred is known as conditional probability.\n",
    "\n",
    "For example, probability of A, given B has occured, denoted by P(A$\\mid$B). From Set Theory, we can define P(A$\\mid$B) as the probability of both A and B are both occured devided by the probability of B occured.\n",
    "\n",
    "$\\hspace{8cm} P(A|B) = \\Huge \\frac{P(A\\cap B)}{P(B)}$\n",
    "\n",
    "Similarly $\\small P(B|A) = \\large \\frac{P(B\\cap A)}{P(A)}$ and we can say that P(A$\\mid$B) and P(B$\\mid$A) are same. Now we can write, P(A|B) P(B) = P(B|A) P(A)"
   ]
  },
  {
   "cell_type": "markdown",
   "id": "b1990f36-7af2-469e-9c8e-dd4b19c844aa",
   "metadata": {},
   "source": [
    "So we can conclude that $\\;\\;\\;P(A|B) = \\Large \\frac{P(B|A)P(A)}{P(B)}$ , $\\hspace{0.1cm}$ where P(A|B) = Posterior probability, P(B|A) = Likelihood, P(A) = Prior probability, P(B) = Evidence or Marginal Likelihood."
   ]
  },
  {
   "cell_type": "markdown",
   "id": "21cb52c5-127d-475c-839a-0db3e592a050",
   "metadata": {},
   "source": [
    "This is known as $\\color{#06AB80}{\\text{Bayes' Theorem}}$. $\\;$In general, $\\hspace{0.1cm} Posterior$ =  <span style=\"font-size:20px;\">$\\frac{Likelihood\\;\\times\\;Prior}{Evidence}$</span>"
   ]
  },
  {
   "cell_type": "markdown",
   "id": "cb63d73c-06ee-435e-93a3-35502e686228",
   "metadata": {},
   "source": [
    "#####"
   ]
  },
  {
   "cell_type": "markdown",
   "id": "72d01f1f-db78-4031-9283-924e1c3b6263",
   "metadata": {},
   "source": [
    "### <span style=\"color:#BB1C75\">Some examples</span>"
   ]
  },
  {
   "cell_type": "markdown",
   "id": "e5e4ec50-7a59-4de7-8e63-1b2804308a3d",
   "metadata": {},
   "source": [
    "##### <span style=\"color:#0F65B1\">What is the probability of drawing a red-suit card from a pack of 52 cards ?</span>"
   ]
  },
  {
   "cell_type": "markdown",
   "id": "3ec1bb0c-5109-4d47-a18b-a57cc3530b16",
   "metadata": {},
   "source": [
    "$P(red\\;card | T)$ = <span style=\"font-size:18px;\">$\\frac{26}{52}$ = $\\frac{1}{2}$</span> $\\;$, where T $\\equiv$ Total number of card"
   ]
  },
  {
   "cell_type": "markdown",
   "id": "294394d9-3646-403f-999d-d049b99ef47f",
   "metadata": {},
   "source": [
    "##### <span style=\"color:#0F65B1\">What is the probability of drawing two red-suit card from a pack of 52 cards ?</span>"
   ]
  },
  {
   "cell_type": "markdown",
   "id": "2d208b1d-71af-438d-b567-b441fe5d1354",
   "metadata": {},
   "source": [
    "The probability of occuring one red card is $R_0$ = <span style=\"font-size:18px;\">$\\frac{26}{52} = \\frac{1}{2}$</span> and then another red card is $R_1$ = <span style=\"font-size:18px;\">$\\frac{26-1}{52-1} = \\frac{25}{51}$</span>. So, the total probability of occuring both can be written as, $R_0 \\times R_1$ = <span style=\"font-size:18px;\">$\\frac{25}{102}$</span>\n",
    "\n",
    "Another way to calculate,\n",
    "\n",
    "$P(R_0 , R_1|T) = P(R_1|R_0,T)\\;P(R_0|T)$ = <span style=\"font-size:18px;\">$\\frac{25}{51} \\times \\frac{1}{2} = \\frac{25}{102}$</span>"
   ]
  },
  {
   "cell_type": "markdown",
   "id": "f2287308-538a-4bad-a30c-89c43e1d5a27",
   "metadata": {},
   "source": [
    "#####"
   ]
  },
  {
   "cell_type": "markdown",
   "id": "a15c6074-4e74-4030-8ce8-af9072d23ba2",
   "metadata": {},
   "source": [
    "### <span style=\"color:#BB1C75\">Parameter Estimation</span>"
   ]
  },
  {
   "cell_type": "markdown",
   "id": "9ce4ab38-ac5f-4e70-8ba9-32efdbdc9586",
   "metadata": {},
   "source": [
    "Parameter estimation is a process used in statistics and machine learning to estimate the values of parameters of a mathematical model that better explain the data."
   ]
  },
  {
   "cell_type": "markdown",
   "id": "f6beeb05-cec2-4f16-b241-deb22aa27441",
   "metadata": {},
   "source": [
    "$\\hspace{8cm}$ <span style=\"font-size:18px;\">$P(\\theta|d,M)$</span> = <span style=\"font-size:25px;\">$\\frac{\\mathcal{L}(d|\\theta,M)\\;\\ \\Pi(\\theta|M)}{P(d|M)}$</span>\n",
    "\n",
    "\n",
    "where d = observed data, $\\theta$ = Parameters and M = Model hypothesis"
   ]
  },
  {
   "cell_type": "markdown",
   "id": "65d6f6d1-bf64-47ac-8326-dd88324b7b4b",
   "metadata": {},
   "source": [
    "So we need to find all the probabilistic quantity such as Likelihood, Prior and evidence."
   ]
  },
  {
   "cell_type": "markdown",
   "id": "a4ae817d-eb2e-4870-a84b-69729e79db64",
   "metadata": {},
   "source": [
    "##### <span style=\"color:#4DA30B\">Step-1 : Define Likelihood ($\\mathcal{L}$)</span>"
   ]
  },
  {
   "cell_type": "markdown",
   "id": "e54947c2-691c-408d-bf71-b92762839638",
   "metadata": {},
   "source": [
    "It is better to choose your likelihood as a guassian distribution because -\n",
    "\n",
    "<ul>\n",
    "    <li>The Gaussian distribution has good mathematical properties, such as symmetry and a well-defined mean and variance. These properties make it easier to handel.</li>\n",
    "    <li>Many natural and measurement processes result in data that can be approximated by a normal distribution.</li>\n",
    "</ul>"
   ]
  },
  {
   "cell_type": "markdown",
   "id": "d4df8a72-fcff-478d-bf2f-8d63448106ad",
   "metadata": {},
   "source": [
    "The likelihood of the data point $y_i,\\; t_i,$ given a value for the coefficients we will define to be Gaussian distributed as such :"
   ]
  },
  {
   "cell_type": "markdown",
   "id": "3e35ca9b-c43b-4248-84df-5941118b6fc2",
   "metadata": {},
   "source": [
    "$ P(y_i, t_i|\\theta,\\;M)$ = <span style=\"font-size:22px;\">$\\frac{1}{\\sqrt{2\\pi \\sigma^2}}$</span> <span style=\"font-size:18px;\">$\\exp{(\\frac{-(y_i-M)^2}{2 \\sigma^2})}$</span>"
   ]
  },
  {
   "cell_type": "markdown",
   "id": "94b9cb51-9b96-4ea5-835e-2f5f9c62f8d0",
   "metadata": {},
   "source": [
    "Assume that all data points are independent. So, the total probability, $P(\\{y, t\\}|\\theta,\\;M) = \\prod_{i=1}^nP(y_i, t_i|\\theta,\\;M)$"
   ]
  },
  {
   "cell_type": "markdown",
   "id": "e4f57c6a-fc93-48d8-80ad-693059427b6c",
   "metadata": {},
   "source": [
    "When solving problems on a computer, it is often convenient to work with the log-likelihood because it provides many advantages in terms of mathematical simplicity, numerical stability, and also it simplifies the multiplication of probabilities (especially with large datasets) into a sum of logarithms which provide computational efficiency.\n",
    "\n",
    "For the normal distribution, the log-likelihood for n data points is\n",
    "\n",
    "$$\\log(P(\\{y_i, t_i\\}|\\theta,\\;M)) = - \\frac{1}{2} \\left[\\sum_{i=1}^{n} \\left(\\frac{-(y_i-M)^2}{\\sigma^2}\\right)+n\\log(2\\pi\\sigma^2)\\right]$$"
   ]
  },
  {
   "cell_type": "markdown",
   "id": "a770cf6f-e595-44be-9142-bae959465577",
   "metadata": {},
   "source": [
    "But we need Likelihood not Log-Likelihood ! "
   ]
  },
  {
   "cell_type": "markdown",
   "id": "d1b680a3-ec0b-4343-9857-ff62c2dd1274",
   "metadata": {},
   "source": [
    "So, just take an exponential of those values. Now, mean-centering is sometimes used in the context of converting Log-Likelihood to Likelihood to prevent extremely small or large Likelihood values (Exponentiating large negative numbers results in values close to zero) and provide us more manageable exponentiated data."
   ]
  },
  {
   "cell_type": "markdown",
   "id": "16308bb2-98c9-4dc9-9dee-08b25ee249db",
   "metadata": {},
   "source": [
    "In order to do mean-centering, we just need to substract the mean of the samples from each and every sample. After that, we can take the exponential and define our Likelihood. \n",
    "\n",
    "We normalize the Likelihood, divide each Likelihood value by the sum of the Likelihoods, to interprete it as a probability distribution (Value = 0 to 1) and use in further statistical analysis. "
   ]
  },
  {
   "cell_type": "markdown",
   "id": "53b4e47d-8c6d-4936-9fbe-03566fb27af7",
   "metadata": {},
   "source": [
    "######"
   ]
  },
  {
   "cell_type": "markdown",
   "id": "2e0568ea-ffe0-477d-8c12-3757aacf6a26",
   "metadata": {},
   "source": [
    "##### <span style=\"color:#4DA30B\">Step-2 : Define Prior ($\\Pi$)</span>"
   ]
  },
  {
   "cell_type": "markdown",
   "id": "a08fac40-2d54-4b72-acc8-6f1ce20d7958",
   "metadata": {},
   "source": [
    "On the basis of our knowledge about the model, we define the normalized prior distribution. There are many possible ways to consider it such as Beta distribution, Uniform distribution and Gaussian distribution."
   ]
  },
  {
   "cell_type": "markdown",
   "id": "8af62260-5686-4553-a104-1c7b89ad1796",
   "metadata": {},
   "source": [
    "######"
   ]
  },
  {
   "cell_type": "markdown",
   "id": "2e86178e-43d9-488f-a4ee-d2e6196308ac",
   "metadata": {},
   "source": [
    "##### <span style=\"color:#4DA30B\">Step-3 : Calculate Posterior</span>"
   ]
  },
  {
   "cell_type": "markdown",
   "id": "cbe28512-c4ed-49a1-b1dd-9823657ea53f",
   "metadata": {},
   "source": [
    "Posterior is a understanding of how the data is distributed given that we witnessed the data, and that we had a prior about it. Multiply the Likelihood with the Prior and we will get the unnormalized posterior distribution."
   ]
  },
  {
   "cell_type": "markdown",
   "id": "46d1d72e-fcd6-4dbf-8afc-7d92e469d8d6",
   "metadata": {},
   "source": [
    "######"
   ]
  },
  {
   "cell_type": "markdown",
   "id": "69409337-41ca-4e0d-bb58-d1d7e385cccf",
   "metadata": {},
   "source": [
    "##### <span style=\"color:#4DA30B\">Step-4 : Calculate Evidence</span>"
   ]
  },
  {
   "cell_type": "markdown",
   "id": "d5ef0997-25ff-4fb2-9f72-c48bc448525e",
   "metadata": {},
   "source": [
    "This is the probability of the data when the model is true. It is computed by integrating (or summing) the likelihood times the prior over all possible values of parameters.\n",
    "\n",
    "For continuous parameters, <span style=\"font-size:16px\">$P(d|M) = \\int \\mathcal{L}(d|\\theta,M)\\;\\ \\Pi(\\theta|M)\\;d\\theta$</span> and for discrete parameters, <span style=\"font-size:16px\">$P(d|M) = \\sum_{\\theta}\\;\\mathcal{L}(d|\\theta,M)\\;\\ \\Pi(\\theta|M)$</span>"
   ]
  },
  {
   "cell_type": "markdown",
   "id": "d5681c62-6d83-419f-8b4a-54a152253e81",
   "metadata": {},
   "source": [
    "###"
   ]
  },
  {
   "cell_type": "markdown",
   "id": "6af5fda0-26a7-44b8-bca3-059f7e444fe5",
   "metadata": {},
   "source": [
    "##"
   ]
  },
  {
   "cell_type": "markdown",
   "id": "354c26e0-e431-4798-bb3e-e020288e4423",
   "metadata": {},
   "source": [
    "#####"
   ]
  },
  {
   "cell_type": "code",
   "execution_count": 1,
   "id": "01265254-9ec3-4bb6-8780-7576ebcaa642",
   "metadata": {},
   "outputs": [],
   "source": [
    "import numpy as np\n",
    "import matplotlib.pyplot as plt\n",
    "from scipy import stats"
   ]
  },
  {
   "cell_type": "markdown",
   "id": "3daee61d-249d-4893-88bf-cbbf45772c59",
   "metadata": {},
   "source": []
  },
  {
   "cell_type": "markdown",
   "id": "738a5ebc-2daf-4742-9158-ee96b188a458",
   "metadata": {},
   "source": [
    "#### Define model :"
   ]
  },
  {
   "cell_type": "code",
   "execution_count": 2,
   "id": "8a20ec76-d0ed-49aa-a7f6-a64a19166dc7",
   "metadata": {},
   "outputs": [],
   "source": [
    "def model(omega, t):\n",
    "\treturn np.sin(omega * t)\n",
    "\n",
    "time = np.linspace(0, 12, 1000)\n",
    "\n",
    "sigma = 0.5\n",
    "omega_true = 1.5"
   ]
  },
  {
   "cell_type": "markdown",
   "id": "2960192d-0b0b-4945-a421-5971b66f3a5c",
   "metadata": {},
   "source": []
  },
  {
   "cell_type": "markdown",
   "id": "3901f9b4-78c8-425c-a443-be3105f1965b",
   "metadata": {},
   "source": [
    "#### Mix some noise !"
   ]
  },
  {
   "cell_type": "code",
   "execution_count": 3,
   "id": "e91daf51-105d-4b92-89c8-73c9f577ad62",
   "metadata": {},
   "outputs": [],
   "source": [
    "y_signal = model(omega = omega_true, t = time)\n",
    "y_obs = y_signal + np.random.normal(0, sigma, len(time))"
   ]
  },
  {
   "cell_type": "code",
   "execution_count": null,
   "id": "c20f63e3-806e-4731-998d-960b739a2035",
   "metadata": {},
   "outputs": [],
   "source": []
  },
  {
   "cell_type": "markdown",
   "id": "ebdf9c1b-9454-497f-8018-1ced3fddf0dd",
   "metadata": {},
   "source": [
    "#### Make a Log-Likelihood function :"
   ]
  },
  {
   "cell_type": "markdown",
   "id": "abc990eb-c9db-4fc0-a363-8995b4f8d86d",
   "metadata": {},
   "source": []
  },
  {
   "cell_type": "code",
   "execution_count": 4,
   "id": "1315a898-eca4-45ec-8ef6-aa2275b8cee8",
   "metadata": {},
   "outputs": [],
   "source": [
    "def log_likelihood(y_obs, time, omega, sigma = 0.1):\n",
    "\ty_A = model(omega,time)\n",
    "\tL = -0.5 * ((y_obs - y_A)**2/sigma**2 + np.log(2 * np.pi * sigma**2))\n",
    "\treturn np.sum(L)"
   ]
  },
  {
   "cell_type": "code",
   "execution_count": null,
   "id": "35d8abb1-a464-4943-b27b-97a648521f72",
   "metadata": {},
   "outputs": [],
   "source": []
  },
  {
   "cell_type": "markdown",
   "id": "eaea0b98-fd33-4c20-8683-446d520de774",
   "metadata": {},
   "source": [
    "#### Run the Log-Likelihood function for different $\\omega$ value"
   ]
  },
  {
   "cell_type": "code",
   "execution_count": 5,
   "id": "d5038596-9fea-4333-9840-3306c458d36b",
   "metadata": {},
   "outputs": [
    {
     "data": {
      "text/plain": [
       "[<matplotlib.lines.Line2D at 0x12d518990>]"
      ]
     },
     "execution_count": 5,
     "metadata": {},
     "output_type": "execute_result"
    },
    {
     "data": {
      "image/png": "[encoded data removed]",
      "text/plain": [
       "<Figure size 640x480 with 1 Axes>"
      ]
     },
     "metadata": {},
     "output_type": "display_data"
    }
   ],
   "source": [
    "omega_array = np.linspace(0, 10, len(time))\n",
    "L_array = []\n",
    "\n",
    "for omega in omega_array :\n",
    "\tL_array.append(log_likelihood(y_obs, time, omega))\n",
    "\n",
    "plt.plot(omega_array,L_array)"
   ]
  },
  {
   "cell_type": "markdown",
   "id": "97231543-6418-4ffc-9e41-e361add8cbcd",
   "metadata": {},
   "source": [
    "####"
   ]
  },
  {
   "cell_type": "markdown",
   "id": "a1f12dae-21e6-4769-8443-47b6e4fed130",
   "metadata": {},
   "source": [
    "The omega value corresponds to maximum log-likelihood is -"
   ]
  },
  {
   "cell_type": "code",
   "execution_count": 6,
   "id": "e4713ea1-1379-4f42-8fb2-e456294d79e5",
   "metadata": {},
   "outputs": [
    {
     "name": "stdout",
     "output_type": "stream",
     "text": [
      "1.5015015015015014\n"
     ]
    }
   ],
   "source": [
    "Max_LL = omega_array[np.argmax(L_array)]\n",
    "print(Max_LL)"
   ]
  },
  {
   "cell_type": "markdown",
   "id": "16f140e0-f219-4bcd-9b80-dd8690579d21",
   "metadata": {},
   "source": [
    "####"
   ]
  },
  {
   "cell_type": "markdown",
   "id": "f10f8160-6e6c-4db4-9c2d-6e1de5857dee",
   "metadata": {},
   "source": [
    "Here, a peak is seen for a $\\omega$  value for the maximum log-likelihood. we only consider a small interval around that value."
   ]
  },
  {
   "cell_type": "code",
   "execution_count": 7,
   "id": "1b45a148-9543-4b31-a61b-f14e0fc9242d",
   "metadata": {},
   "outputs": [
    {
     "data": {
      "text/plain": [
       "[<matplotlib.lines.Line2D at 0x12d5b8850>]"
      ]
     },
     "execution_count": 7,
     "metadata": {},
     "output_type": "execute_result"
    },
    {
     "data": {
      "image/png": "[encoded data removed]",
      "text/plain": [
       "<Figure size 640x480 with 1 Axes>"
      ]
     },
     "metadata": {},
     "output_type": "display_data"
    }
   ],
   "source": [
    "omega_array = np.linspace(Max_LL-2e-2, Max_LL+2e-2, len(time))\n",
    "L_array = []\n",
    "\n",
    "for omega in omega_array :\n",
    "\tL_array.append(log_likelihood(y_obs, time, omega))\n",
    "\n",
    "plt.plot(omega_array,L_array)"
   ]
  },
  {
   "cell_type": "markdown",
   "id": "70aaa387-29e1-4658-a05c-158a7fcaea62",
   "metadata": {},
   "source": [
    "#"
   ]
  },
  {
   "cell_type": "markdown",
   "id": "907ff309-ae44-4ca1-ab5d-b5992d1b2d92",
   "metadata": {},
   "source": []
  },
  {
   "cell_type": "markdown",
   "id": "2d885768-e68f-4458-9cd1-827eda37f01b",
   "metadata": {},
   "source": []
  },
  {
   "cell_type": "markdown",
   "id": "35efc581-23f2-4786-ba69-a2f7e5677e34",
   "metadata": {},
   "source": [
    "#####"
   ]
  },
  {
   "cell_type": "markdown",
   "id": "47639476-a4fc-4157-83f5-62d2e918a77c",
   "metadata": {},
   "source": [
    "Now, we convert the log-likelihood into likelihood. But before we substract the mean value form the sample elements of L-array. This is process <i>Centering the Mean</i> or <i>Zero Mean</i>."
   ]
  },
  {
   "cell_type": "code",
   "execution_count": 8,
   "id": "83c07c19-5409-4645-9045-b9712fb5c95c",
   "metadata": {},
   "outputs": [],
   "source": [
    "Likelihood = np.exp(L_array - np.mean(L_array))\n",
    "Likelihood_norm = Likelihood / np.sum(Likelihood)"
   ]
  },
  {
   "cell_type": "markdown",
   "id": "7797f3e3-c3f8-44f2-b029-e9621d4377b1",
   "metadata": {},
   "source": [
    "####"
   ]
  },
  {
   "cell_type": "markdown",
   "id": "aaa3a9ef-ebf6-4669-9dc6-fb49d95b8e51",
   "metadata": {},
   "source": [
    "#### Define the Prior"
   ]
  },
  {
   "cell_type": "markdown",
   "id": "6a5d2ae3-dbc5-4041-8ac8-47a5b93801c6",
   "metadata": {},
   "source": [
    "Here I take an uniform distribution for prior."
   ]
  },
  {
   "cell_type": "code",
   "execution_count": 9,
   "id": "fd8e0ac9-5c84-4721-96f6-a4e064f38b52",
   "metadata": {},
   "outputs": [
    {
     "data": {
      "text/plain": [
       "[<matplotlib.lines.Line2D at 0x13a0b1150>]"
      ]
     },
     "execution_count": 9,
     "metadata": {},
     "output_type": "execute_result"
    },
    {
     "data": {
      "image/png": "[encoded data removed]",
      "text/plain": [
       "<Figure size 640x480 with 1 Axes>"
      ]
     },
     "metadata": {},
     "output_type": "display_data"
    }
   ],
   "source": [
    "prior = stats.uniform.pdf(omega_array)+1\n",
    "prior_norm_PDF = prior/np.sum(prior)\n",
    "\n",
    "plt.plot(omega_array, prior_norm_PDF, color='blue', label='Prior')"
   ]
  },
  {
   "cell_type": "markdown",
   "id": "6536e18c-04b3-4f70-8614-386cda025978",
   "metadata": {},
   "source": [
    "##"
   ]
  },
  {
   "cell_type": "markdown",
   "id": "76c787a5-f399-4ec4-bf78-4cd037b9f93f",
   "metadata": {},
   "source": [
    "Posterior is defined by multiplying the likelihood and the prior."
   ]
  },
  {
   "cell_type": "code",
   "execution_count": 10,
   "id": "6e93e825-12d6-4a1f-bdeb-19e01ca8ae8a",
   "metadata": {},
   "outputs": [],
   "source": [
    "posterior = prior_norm_PDF * Likelihood_norm\n",
    "posterior = posterior/np.sum(posterior)"
   ]
  },
  {
   "cell_type": "markdown",
   "id": "e763fde0-d2d0-440d-9703-0e0701224419",
   "metadata": {},
   "source": [
    "######"
   ]
  },
  {
   "cell_type": "markdown",
   "id": "c7ee4ebc-d381-485f-a50d-09cefaf3534e",
   "metadata": {},
   "source": [
    "Let's plot all of three in one figure."
   ]
  },
  {
   "cell_type": "code",
   "execution_count": 11,
   "id": "25920d98-03b3-47ab-9db5-b04235255ae4",
   "metadata": {},
   "outputs": [
    {
     "data": {
      "text/plain": [
       "<matplotlib.legend.Legend at 0x12d5c4750>"
      ]
     },
     "execution_count": 11,
     "metadata": {},
     "output_type": "execute_result"
    },
    {
     "data": {
      "image/png": "[encoded data removed]",
      "text/plain": [
       "<Figure size 640x480 with 1 Axes>"
      ]
     },
     "metadata": {},
     "output_type": "display_data"
    }
   ],
   "source": [
    "plt.plot(omega_array,Likelihood_norm, color='red', label='Likelihood')\n",
    "plt.plot(omega_array, posterior, color='green', label='Posterior')\n",
    "\n",
    "plt.legend()"
   ]
  },
  {
   "cell_type": "markdown",
   "id": "a8517b31-b991-4941-8306-d968f89f63b2",
   "metadata": {},
   "source": [
    "####"
   ]
  },
  {
   "cell_type": "markdown",
   "id": "7632a29d-5d72-4a32-8dcc-889e9b5ec0e2",
   "metadata": {},
   "source": [
    "<b>Disclaimer</b>: If the prior distribution is uniform then the posterior distribution will same as the likelihood."
   ]
  },
  {
   "cell_type": "code",
   "execution_count": null,
   "id": "4d001d0f-563b-479b-83d3-57daa9ca0b53",
   "metadata": {},
   "outputs": [],
   "source": []
  }
 ],
 "metadata": {
  "kernelspec": {
   "display_name": "Python 3 (ipykernel)",
   "language": "python",
   "name": "python3"
  },
  "language_info": {
   "codemirror_mode": {
    "name": "ipython",
    "version": 3
   },
   "file_extension": ".py",
   "mimetype": "text/x-python",
   "name": "python",
   "nbconvert_exporter": "python",
   "pygments_lexer": "ipython3",
   "version": "3.11.7"
  }
 },
 "nbformat": 4,
 "nbformat_minor": 5
}
