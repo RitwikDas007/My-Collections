{
 "cells": [
  {
   "cell_type": "markdown",
   "id": "ec69a4a0-cd16-4955-8797-bf12de9b8eb4",
   "metadata": {},
   "source": [
    "# <center><span style=\"color:brown\">Least Square Method</span></center>\n"
   ]
  },
  {
   "cell_type": "markdown",
   "id": "7d8c6436-0d73-42f5-a95e-36bd33597de6",
   "metadata": {},
   "source": [
    "Suppose, we have some data set and we want to connect these points by a curve. Then we can have the *\" Least Square Mehod \"* to fit the points accurately. It can be any curve e.g. straight line, exponential equation, second-degree parabola or the linear combination of $x^n$.\n",
    "\n",
    "So, first I will discuss the mathematical technique for each types of functions and then jump into the Python3.\n",
    "\n",
    "<span style=\"color:blue\">**1. Straight line**</span>\n",
    "\n",
    ">$y = a+bx$<br>\n",
    "$\\sum{y} = \\sum{(a+bx)}$<br>\n",
    "$\\sum{y} = \\sum{a}+b\\sum{x}$<br>\n",
    "\n",
    "Here, $\\sum{a} = na$ where n is the number of points.\n",
    "\n",
    ">$\\sum{y} = na+b\\sum{x}$  <i>------------(i)</i><br>\n",
    "\n",
    "Now, $xy = ax+bx^2$\n",
    "\n",
    ">$\\sum{xy} = a\\sum{x}+b\\sum{x^2}$   <i>------------(ii)</i><br>\n",
    "\n",
    "One can get the value of $\\sum{x}$, $\\sum{y}$, $\\sum{x^2}$, $\\sum{xy}$ from the data set.\n",
    "\n",
    "Then solve equation (i) and (ii) for the variable $a$ and $b$.\n",
    "\n",
    "Put those value of a and b in a new equation like, $Y = a+bX$. This straight line will show the fitted curve."
   ]
  },
  {
   "cell_type": "markdown",
   "id": "7e6cc12d-6de6-44f2-95b5-df7b3de292e8",
   "metadata": {},
   "source": [
    "<span style=\"color:blue\">**2. Second-degree Parabola**</span>\n",
    "\n",
    ">$y = a+bx+cx^2$<br>\n",
    "$\\sum{y} = \\sum{(a+bx+cx^2)}$<br>\n",
    "$\\sum{y} = \\sum{a}+b\\sum{x}+c\\sum{x^2}$<br>\n",
    "\n",
    ">$\\sum{y} = na+b\\sum{x}+c\\sum{x^2}$  <i>------------(i)</i><br>\n",
    "\n",
    "Now, $xy = ax+bx^2+cx^3$\n",
    "\n",
    ">$\\sum{xy} = a\\sum{x}+b\\sum{x^2}+c\\sum{x^3}$   <i>------------(ii)</i><br>\n",
    "\n",
    "Again, $x^2 y = ax^2+bx^3+cx^4$\n",
    "\n",
    ">$\\sum{x^2 y} = a\\sum{x^2}+b\\sum{x^3}+c\\sum{x^4}$   <i>------------(iii)</i><br>\n",
    "\n",
    "One can get the value of $\\sum{x}$, $\\sum{y}$, $\\sum{x^2}$, $\\sum{x^3}$, $\\sum{x^4}$, $\\sum{x^2 y}$, $\\sum{xy}$ from the data set.\n",
    "\n",
    "Then solve equation (i), (ii) and (iii) for the variable $a$, $b$ and $c$.\n",
    "\n",
    "Put those value in a new equation like, $Y = a+bX+cX^2$"
   ]
  },
  {
   "cell_type": "markdown",
   "id": "d665b6af-a884-4848-976b-3212a327c6f1",
   "metadata": {},
   "source": [
    "<span style=\"color:blue\">**3. Exponential equation**</span>\n",
    "\n",
    ">$y = ax^{b}$<br>\n",
    "$\\ln{y} = \\ln{a}+b\\ln{x}$<br>\n",
    "\n",
    "Consider, $\\ln{y}=U$, $\\ln{a}=V$ and $\\ln{x}=W$\n",
    "\n",
    ">$U = V+bW$<br>\n",
    "$\\sum{U} = nV+b\\sum{W}$  <i>------------(i)</i><br>\n",
    "\n",
    ">$UW = VW+bW^2$<br>\n",
    "$\\sum{UW} = V\\sum{W}+b\\sum{W^2}$  <i>------------(ii)</i><br>\n",
    "\n",
    "Calculate the required values from data set and solve equation (i) and (ii) for the variable $V$ and $b$.\n",
    "\n",
    "Put those value in a new equation like, $Y = aX^{b}$, where $a=e^V$"
   ]
  },
  {
   "cell_type": "markdown",
   "id": "498a83b6-4f41-4cdc-881c-4539890174bc",
   "metadata": {},
   "source": [
    "-  In general, we need to calculate all the coefficients available in the function. In order to do it, we have to make the same number of equations by multiplying the variable containing $x$ and its power with the variable containing $y$. After that take the summation and then solve for the coefficients."
   ]
  },
  {
   "cell_type": "markdown",
   "id": "0d3f56e0-78e1-4db5-97c6-58b96c3bc253",
   "metadata": {},
   "source": [
    "#"
   ]
  },
  {
   "cell_type": "markdown",
   "id": "93c09c5f-28e5-497d-9a6f-d519816b62b2",
   "metadata": {},
   "source": [
    "#### <span style=\"color:MediumVioletRed\">Fit a straight line $y=a+bx$ using the following data set</span> <br><br> \n",
    "\n",
    "||||||||||||||||\n",
    "|--|--|--|--|--|--|--|--|--|--|--|--|--|--|--|\n",
    "| **x** | 3 | 4 | 5 | 2 | 10 | 1 | 6 | 8 | 7 | 9 | 11 | 14 | 17 | 19 |\n",
    "| **f(x)** | 4 | 6 | 8 | 9 | 13 | 5 | 7 | 11 | 10 | 12 | 14 | 16 | 15 | 17 |"
   ]
  },
  {
   "cell_type": "markdown",
   "id": "663af7dc-f03a-4524-a877-aa0929f3a58c",
   "metadata": {},
   "source": [
    "#"
   ]
  },
  {
   "cell_type": "code",
   "execution_count": 10,
   "id": "c4f8d329-020d-4754-b4b9-c4631dfce91c",
   "metadata": {},
   "outputs": [],
   "source": [
    "import numpy as np\n",
    "from sympy import *\n",
    "from sympy.abc import *\n",
    "import matplotlib.pyplot as plt"
   ]
  },
  {
   "cell_type": "code",
   "execution_count": 11,
   "id": "91c36b75-c891-4d8a-9b2f-626cdaebdfed",
   "metadata": {},
   "outputs": [
    {
     "data": {
      "image/png": "[encoded data removed]",
      "text/plain": [
       "<Figure size 640x480 with 1 Axes>"
      ]
     },
     "metadata": {},
     "output_type": "display_data"
    }
   ],
   "source": [
    "x = np.array([3,4,5,2,10,1,6,8,7,9,11,14,17,19])\n",
    "y = np.array([4,6,8,9,13,5,7,11,10,12,14,16,15,17])\n",
    "\n",
    "n = len(x)\n",
    "sum_x = np.sum(x)\n",
    "sum_y = np.sum(y)\n",
    "x_square = x**2\n",
    "sum_x_square = np.sum(x_square)\n",
    "xy = x*y\n",
    "sum_xy = np.sum(xy)\n",
    "\n",
    "eq1 = Eq(((n*A) + (B*sum_x)), sum_y)\n",
    "eq2 = Eq(((sum_x*A) + (B*sum_x_square)), sum_xy)\n",
    "\n",
    "root = solve((eq1, eq2), (A, B))\n",
    "\n",
    "X = np.linspace(0,20,10000)\n",
    "fit = root[A] + root[B]*X\n",
    "\n",
    "plt.scatter(x,y,color='r',s=9)\n",
    "plt.plot(X,fit)\n",
    "plt.xlabel('X')\n",
    "plt.ylabel('Y')\n",
    "plt.show()"
   ]
  }
 ],
 "metadata": {
  "kernelspec": {
   "display_name": "Python 3 (ipykernel)",
   "language": "python",
   "name": "python3"
  },
  "language_info": {
   "codemirror_mode": {
    "name": "ipython",
    "version": 3
   },
   "file_extension": ".py",
   "mimetype": "text/x-python",
   "name": "python",
   "nbconvert_exporter": "python",
   "pygments_lexer": "ipython3",
   "version": "3.10.12"
  }
 },
 "nbformat": 4,
 "nbformat_minor": 5
}
